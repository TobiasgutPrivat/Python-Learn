{
 "cells": [
  {
   "cell_type": "markdown",
   "metadata": {
    "id": "RItZpcY05CxX"
   },
   "source": [
    "# **Naturwissenschaft - Gehirn - Practical Work**\n",
    "**Teacher: Ricardo Chavarriaga**\n",
    "\n",
    "This practice introduces the general steps for EEG processing including\n",
    "* Re-referencing\n",
    "* Filtering\n",
    "* Epoch extraction and averaging"
   ]
  },
  {
   "cell_type": "markdown",
   "metadata": {
    "id": "3gVPnXHX5xLZ"
   },
   "source": [
    "# Installation\n",
    "First we will install the necessary libraries. We will use the [MNE](https://www.nmr.mgh.harvard.edu/mne/0.14/index.html) library which is specialized in EEG & MEG analysis\n",
    "\n",
    "You can find several tutorials here: https://www.nmr.mgh.harvard.edu/mne/0.14/tutorials.html\n"
   ]
  },
  {
   "cell_type": "code",
   "execution_count": null,
   "metadata": {
    "id": "Suqj5t3synsJ"
   },
   "outputs": [],
   "source": [
    "!pip install mne\n",
    "import mne\n",
    "from mne.datasets import sample\n",
    "from mne.channels import make_standard_montage\n",
    "from mne.channels.montage import get_builtin_montages"
   ]
  },
  {
   "cell_type": "code",
   "execution_count": null,
   "metadata": {
    "id": "v5TC6yPgymDE"
   },
   "outputs": [],
   "source": [
    "%matplotlib inline"
   ]
  },
  {
   "cell_type": "markdown",
   "metadata": {
    "id": "qalypX586f39"
   },
   "source": [
    "# Loading a pre-recorded EEG data file\n",
    "\n",
    "We will use a dataset provided as example by the MNE library. You can find more information [here](https://www.nmr.mgh.harvard.edu/mne/0.14/manual/sample_dataset.html#ch-sample-data).\n",
    "\n",
    "In the experiment, checkerboard patterns were presented into the left and right visual field, interspersed by tones to the left or right ear. The interval between the stimuli was 750 ms. Occasionally a smiley face was presented at the center of the visual field. The subject was asked to press a key with the right index finger as soon as possible after the appearance of the face.\n",
    "\n",
    "The data was recorded using equipment that can record Magnetoencephalograhy (MEG) signals in addition to EEG. MEG signals are changes in electromagnetic fields due to neuron activation. We will remove these signals fof further analysis.\n",
    "\n",
    "In addition, during the experiment, some electrode were used for measuring eye movements. This type of electrodes are referred to as *Electrooculography\" (EOG). The signal of EOG channels can be used to identify and remove signal artifacts due to eye movements. We will cover this in the next lecture.\n",
    "\n",
    "This experiment include six types of *events* which are included inthe EEG file for allowing analysis of event-related potentials (ERPs). EAch of these events is timestamped in the file with a *Trigger code*\n",
    "\n",
    "\n",
    "| Condition | Trigger code |\n",
    "|----|---|\n",
    "| Response to left-ear auditory stimulus |  1 |\n",
    "| Response to right-ear auditory stimulus | 2 |\n",
    "| Response to left visual field stimulus | 3 |\n",
    "| Response to right visual field stimulus | 4 |\n",
    "| Response to the smiley face | 5 |\n",
    "| Response triggered by the button press | 32 |\n"
   ]
  },
  {
   "cell_type": "markdown",
   "metadata": {
    "id": "B9YE9yyvymDH"
   },
   "source": [
    "Setup for reading the raw data\n",
    "\n"
   ]
  },
  {
   "cell_type": "code",
   "execution_count": null,
   "metadata": {
    "id": "Tqi6ormeymDH"
   },
   "outputs": [],
   "source": [
    "data_path = sample.data_path()\n",
    "data_path_converted = str(data_path)\n",
    "raw_fname = data_path_converted + '/MEG/sample/sample_audvis_filt-0-40_raw.fif'\n",
    "event_fname = data_path_converted + '/MEG/sample/sample_audvis_filt-0-40_raw-eve.fif'\n",
    "raw = mne.io.read_raw_fif(raw_fname, preload=True)\n",
    "raw.set_eeg_reference()  # set EEG average reference"
   ]
  },
  {
   "cell_type": "markdown",
   "metadata": {
    "id": "2ihYx1JeNQ2k"
   },
   "source": [
    "# Question 1\n",
    "Examine the information returned by the function and report:\n",
    "* Recording sampling frequency\n",
    "* Filter cutt-off frequencies\n",
    "* Recording duration\n",
    "* Referencing method for EEG signals\n",
    "* number of EEG channels\n",
    "* number of MEG channels\n",
    "* number of EOG channels\n",
    "\n"
   ]
  },
  {
   "cell_type": "markdown",
   "metadata": {
    "id": "xuCHcecT8jiW"
   },
   "source": [
    "# Channel selection\n",
    "Here we select the channels that will be used for the analysis. Let's restrict the data to the EEG channels"
   ]
  },
  {
   "cell_type": "code",
   "execution_count": null,
   "metadata": {
    "id": "ikcDjc8EymDJ"
   },
   "outputs": [],
   "source": [
    "raw.pick_types(meg=False, eeg=True, eog=True)"
   ]
  },
  {
   "cell_type": "markdown",
   "metadata": {
    "id": "s3R1h9WYymDJ"
   },
   "source": [
    "By looking at the measurement info you will see that we have now\n",
    "59 EEG channels and 1 EOG channel\n",
    "\n"
   ]
  },
  {
   "cell_type": "markdown",
   "metadata": {
    "id": "nwQRpC54ymDK"
   },
   "source": [
    "In practice it's quite common to have some EEG channels that are actually\n",
    "EOG channels. To change a channel type you can use the\n",
    ":func:`mne.io.Raw.set_channel_types` method. For example\n",
    "to treat an EOG channel as EEG you can change its type using\n",
    "\n"
   ]
  },
  {
   "cell_type": "code",
   "execution_count": null,
   "metadata": {
    "id": "3YSln49oymDK"
   },
   "outputs": [],
   "source": [
    "raw.set_channel_types(mapping={'EOG 061': 'eeg'})\n",
    "print(raw.info)"
   ]
  },
  {
   "cell_type": "markdown",
   "metadata": {
    "id": "CvO2MLUeymDK"
   },
   "source": [
    "And to change the name of the EOG channel\n",
    "\n"
   ]
  },
  {
   "cell_type": "code",
   "execution_count": null,
   "metadata": {
    "id": "8I9nST3lymDL"
   },
   "outputs": [],
   "source": [
    "raw.rename_channels(mapping={'EOG 061': 'EOG'})"
   ]
  },
  {
   "cell_type": "markdown",
   "metadata": {
    "id": "NlTQJQ_SymDL"
   },
   "source": [
    "Let's reset the EOG channel back to EOG type.\n",
    "\n"
   ]
  },
  {
   "cell_type": "code",
   "execution_count": null,
   "metadata": {
    "id": "aDorL3s4ymDL"
   },
   "outputs": [],
   "source": [
    "raw.set_channel_types(mapping={'EOG': 'eog'})"
   ]
  },
  {
   "cell_type": "markdown",
   "metadata": {
    "id": "KUhs8igQymDL"
   },
   "source": [
    "# Plot channel locations\n",
    "The EEG channels in the sample dataset already have locations.\n",
    "These locations are available in the 'loc' of each channel description.\n",
    "For the first channel we get\n",
    "\n"
   ]
  },
  {
   "cell_type": "code",
   "execution_count": null,
   "metadata": {
    "id": "YgKwaNysymDM"
   },
   "outputs": [],
   "source": [
    "print(raw.info['chs'][0]['loc'])"
   ]
  },
  {
   "cell_type": "markdown",
   "metadata": {
    "id": "c4hIhFRkymDM"
   },
   "source": [
    "And it's actually possible to plot the channel locations using\n",
    "the :func:`mne.io.Raw.plot_sensors` method\n",
    "\n"
   ]
  },
  {
   "cell_type": "code",
   "execution_count": null,
   "metadata": {
    "id": "NVXE7iltymDM"
   },
   "outputs": [],
   "source": [
    "raw.plot_sensors()\n",
    "#raw.plot_sensors('3d')  # Uncomment this line to plot the electrode location in 3D"
   ]
  },
  {
   "cell_type": "markdown",
   "metadata": {
    "id": "ih_jChm6JE2T"
   },
   "source": [
    "# Plotting the EEG data\n",
    "Here, we will plot 10 seconds of the EEG data. Each channel is plotted as a trace line with the signal (in uV) across time."
   ]
  },
  {
   "cell_type": "code",
   "execution_count": null,
   "metadata": {},
   "outputs": [],
   "source": [
    "raw.plot(duration=10, n_channels=30)"
   ]
  },
  {
   "cell_type": "markdown",
   "metadata": {
    "id": "ih_jChm6JE2T"
   },
   "source": [
    "# Plotting the power spectra\n",
    "Now, we plot the spectrum of the EEG data (i.e. the power at different frequencies) for all channels. We will use the method *Power spectral density* to compute the power at different frequencies. We will study spectral analysis more in detail at the next lecture."
   ]
  },
  {
   "cell_type": "code",
   "execution_count": null,
   "metadata": {
    "id": "kyoXczpYJYEo"
   },
   "outputs": [],
   "source": [
    "raw.compute_psd(fmax=50).plot(picks=\"data\", exclude=\"bads\", amplitude=False)"
   ]
  },
  {
   "cell_type": "markdown",
   "metadata": {
    "id": "kO5vPsRmX-Y2"
   },
   "source": [
    "# Filtering\n",
    "Now, let's filter the signal with a bandpass filter between 4 Hz and 20 Hz and re-plot the frequency spectrum."
   ]
  },
  {
   "cell_type": "code",
   "execution_count": null,
   "metadata": {
    "id": "fL0AKBdJVZ14"
   },
   "outputs": [],
   "source": [
    "# Band pass filtering between 4 Hz and 30 Hz\n",
    "filtered = raw.copy().filter(4, 20, h_trans_bandwidth='auto', filter_length='auto',\n",
    "           phase='zero')"
   ]
  },
  {
   "cell_type": "code",
   "execution_count": null,
   "metadata": {
    "id": "fL0AKBdJVZ14"
   },
   "outputs": [],
   "source": [
    "# plot the the first 10s filtered signal. Compared with the original signal\n",
    "filtered.plot(duration=10, n_channels=30)"
   ]
  },
  {
   "cell_type": "code",
   "execution_count": null,
   "metadata": {
    "id": "fL0AKBdJVZ14"
   },
   "outputs": [],
   "source": [
    "# plot the frequency spectrum. Compare with the original spectrum\n",
    "filtered.compute_psd(fmax=50).plot(picks=\"data\", exclude=\"bads\", amplitude=False)"
   ]
  },
  {
   "cell_type": "markdown",
   "metadata": {
    "id": "BIUoJlKcYKud"
   },
   "source": [
    "# Question 2\n",
    "Modify the code below to filter the signal between 8 and 12 HZ, and describe the effect in the spectrum and the signal.\n",
    "\n",
    "Experiment with 3 other filter configurations.\n",
    "\n",
    "**NOTE**: Some configurations may not be valid as the function for the digital filter may be unstable or impossible (e.g. high-cut-off < low-cut-off)"
   ]
  },
  {
   "cell_type": "code",
   "execution_count": null,
   "metadata": {
    "id": "qPCfT65VYWRB"
   },
   "outputs": [],
   "source": [
    "# Band pass filtering between 8 Hz and 12 Hz\n",
    "filtered = raw.copy().filter(__REPLACE_WITH_LOW_CUTOFF_FREQUENCY_HERE___,__REPLACE_WITH_HIGH_CUTOFF_FREQUENCY_HERE___, \n",
    "                             h_trans_bandwidth='auto', filter_length='auto', phase='zero')\n",
    "\n",
    "# plot the spectra and the filtered signal for the first 5s\n",
    "filtered.compute_psd(fmax=50).plot(picks=\"data\", exclude=\"bads\", amplitude=False)\n",
    "filtered.plot(duration=5, n_channels=30)"
   ]
  },
  {
   "cell_type": "code",
   "execution_count": null,
   "metadata": {},
   "outputs": [],
   "source": [
    "raw.plot(duration=5, n_channels=30)\n",
    "filtered.plot(duration=5, n_channels=30)\n",
    "\n",
    "# plot the spectra and the filtered signal for the first 5s\n",
    "raw.compute_psd(fmax=50).plot(picks=\"data\", exclude=\"bads\", amplitude=False)\n",
    "filtered.compute_psd(fmax=50).plot(picks=\"data\", exclude=\"bads\", amplitude=False)"
   ]
  },
  {
   "cell_type": "markdown",
   "metadata": {
    "id": "3XFulV6Y-0ZN"
   },
   "source": [
    "# Epoch extraction and computation of Event-Related Potentials (ERPs)"
   ]
  },
  {
   "cell_type": "markdown",
   "metadata": {
    "id": "bFV_1qZVymDN"
   },
   "source": [
    "Let's first define Epochs and compute an ERP for one of the experimental conditions: the left auditory condition.\n",
    "\n"
   ]
  },
  {
   "cell_type": "code",
   "execution_count": null,
   "metadata": {
    "id": "Yie6TMEuymDO"
   },
   "outputs": [],
   "source": [
    "raw_no_ref, _ = mne.set_eeg_reference(raw, [])\n",
    "reject = dict(eeg=180e-6, eog=150e-6) # This command allows rejecting channels with noisy signal\n",
    "\n",
    "# The following line defines:\n",
    "#  The type of event for analysis: response to the left auditory stimuli\n",
    "#  The duration of the epoch (from 200ms before the event until 500ms after the event\n",
    "event_id, tmin, tmax = {'left/auditory': 1}, -0.2, 0.5\n",
    "events = mne.read_events(event_fname)\n",
    "epochs_params = dict(events=events, event_id=event_id, tmin=tmin, tmax=tmax,\n",
    "                     reject=reject)\n",
    "\n",
    "evoked_no_ref = mne.Epochs(raw_no_ref, **epochs_params).average()\n",
    "\n",
    "# plot the ERP\n",
    "title = 'EEG Original reference'\n",
    "evoked_no_ref.plot(titles=dict(eeg=title))\n",
    "\n",
    "# plot the activity in the scalp at 100ms\n",
    "evoked_no_ref.plot_topomap(times=[0.1, 0.2, 0.4], size=3.)"
   ]
  },
  {
   "cell_type": "markdown",
   "metadata": {
    "id": "m5r-kXwLB9th"
   },
   "source": [
    "Now, let's plot the scalp activity at the peak times in the ERP"
   ]
  },
  {
   "cell_type": "code",
   "execution_count": null,
   "metadata": {
    "id": "0aMI9MT2B26B"
   },
   "outputs": [],
   "source": [
    "evoked_no_ref.plot_topomap(times='peaks', size=3.)"
   ]
  },
  {
   "cell_type": "markdown",
   "metadata": {
    "id": "VmU6jlZMCJJj"
   },
   "source": [
    "# Referencing\n",
    "Now let's see the effect of re-referencing"
   ]
  },
  {
   "cell_type": "markdown",
   "metadata": {
    "id": "k5Vl-uRWymDO"
   },
   "source": [
    "**Average reference**: This is normally added by default, but can also\n",
    "be added explicitly.\n",
    "\n"
   ]
  },
  {
   "cell_type": "code",
   "execution_count": null,
   "metadata": {
    "id": "KD1VAtpaymDO"
   },
   "outputs": [],
   "source": [
    "raw_car, _ = mne.set_eeg_reference(raw)\n",
    "evoked_car = mne.Epochs(raw_car, **epochs_params).average()\n",
    "del raw_car  # save memory\n",
    "\n",
    "title = 'EEG Average reference'\n",
    "evoked_car.plot(titles=dict(eeg=title))\n",
    "evoked_car.plot_topomap(times=[0.1, 0.2, 0.4], size=3.)"
   ]
  },
  {
   "cell_type": "markdown",
   "metadata": {
    "id": "m-_pfX0yymDO"
   },
   "source": [
    "**Custom reference**: Now, let's change the reference and use the mean of channels EEG 001 and EEG 002 as a reference.\n",
    "\n"
   ]
  },
  {
   "cell_type": "code",
   "execution_count": null,
   "metadata": {
    "id": "l7fwVixkymDO"
   },
   "outputs": [],
   "source": [
    "raw_custom, _ = mne.set_eeg_reference(raw, ['EEG 001', 'EEG 002'])\n",
    "evoked_custom = mne.Epochs(raw_custom, **epochs_params).average()\n",
    "del raw_custom  # save memory\n",
    "\n",
    "title = 'EEG Custom reference'\n",
    "evoked_custom.plot(titles=dict(eeg=title))\n",
    "evoked_custom.plot_topomap(times=[0.1, 0.2, 0.4], size=3.)"
   ]
  },
  {
   "cell_type": "markdown",
   "metadata": {
    "id": "Dcctw7l8PB19"
   },
   "source": [
    "# Question 3\n",
    "Describe the effect of changing the reference type:\n",
    "* Time of the ERP peaks\n",
    "* Scalp location of maximal and minimal activity (brain area, lateralization)"
   ]
  },
  {
   "cell_type": "markdown",
   "metadata": {
    "id": "MDlqqes3P4Ei"
   },
   "source": [
    "# Question 4\n",
    "Change the code below to select a different channel as reference and describe the effect in the signal. EEG channels are labelled 'EEG 001' to 'EEG 060'.\n",
    "\n",
    "How can you identify which channel was used as reference?\n",
    "\n",
    "**Note**: Channel 'EEG 053' was faulty during the recording and is labelled as bad channel"
   ]
  },
  {
   "cell_type": "code",
   "execution_count": null,
   "metadata": {
    "id": "UxSWwIxIQIgD"
   },
   "outputs": [],
   "source": [
    "raw_custom, _ = mne.set_eeg_reference(raw, ['__REPLACE_WITH_CHANNEL_NAME'])\n",
    "evoked_custom = mne.Epochs(raw_custom, **epochs_params).average()\n",
    "del raw_custom  # save memory\n",
    "\n",
    "title = 'EEG Custom reference'\n",
    "evoked_custom.plot(titles=dict(eeg=title))\n",
    "evoked_custom.plot_topomap(times=[0.1, 0.2, 0.4], size=3.)"
   ]
  },
  {
   "cell_type": "markdown",
   "metadata": {
    "id": "Lqp5_6uyymDP"
   },
   "source": [
    "# Extracting Epochs for multiple conditions\n",
    "\n",
    "\n",
    "Now, let's extract and plot ERPs for four experimental conditions:\n",
    "\n",
    "| Condition | Trigger code |\n",
    "|----|---|\n",
    "| left/auditory |  1 |\n",
    "| right/auditory | 2 |\n",
    "| left/visual | 3 |\n",
    "| right/visual | 4 |\n",
    "\n",
    "\n",
    "Trial subsets from Epochs can be selected using 'tags' separated by '/'.\n",
    "First, we create an Epochs object containing 4 conditions."
   ]
  },
  {
   "cell_type": "code",
   "execution_count": null,
   "metadata": {
    "id": "8Zr-L1iZymDP"
   },
   "outputs": [],
   "source": [
    "event_id = {'left/auditory': 1, 'right/auditory': 2,\n",
    "            'left/visual': 3, 'right/visual': 4}\n",
    "epochs_params = dict(events=events, event_id=event_id, tmin=tmin, tmax=tmax,\n",
    "                     reject=reject)\n",
    "epochs = mne.Epochs(raw, **epochs_params)"
   ]
  },
  {
   "cell_type": "markdown",
   "metadata": {
    "id": "CtuTLbWYETiM"
   },
   "source": [
    "Now, let's see how many epochs do we get for each condition"
   ]
  },
  {
   "cell_type": "code",
   "execution_count": null,
   "metadata": {
    "id": "Z4mSL4DREaiW"
   },
   "outputs": [],
   "source": [
    "print(epochs)"
   ]
  },
  {
   "cell_type": "markdown",
   "metadata": {
    "id": "aXHIA4jIymDP"
   },
   "source": [
    "# Extract ERPs for stimuli on the left and on the right\n",
    "\n",
    "\n",
    "Next, we compute the averages of stimulation-left vs stimulation-right trials.\n",
    "\n",
    "\n",
    "We can use basic arithmetic to, for example, construct and plot\n",
    "difference ERPs. Here we compute the difference between the average ERP for left condition minus the right condition for each channel.\n",
    "\n"
   ]
  },
  {
   "cell_type": "code",
   "execution_count": null,
   "metadata": {
    "id": "HR_H7ZuKEvR3"
   },
   "outputs": [],
   "source": [
    "left, right = epochs[\"left\"].average(), epochs[\"right\"].average()\n",
    "\n",
    "# create and plot difference ERP\n",
    "mne.combine_evoked([left, -right], weights='equal').plot_joint()"
   ]
  },
  {
   "cell_type": "markdown",
   "metadata": {
    "id": "ip6pRpd_ymDP"
   },
   "source": [
    "# Extracting ERPs for the four conditions\n",
    "\n",
    "\n",
    "\n",
    "\n"
   ]
  },
  {
   "cell_type": "code",
   "execution_count": null,
   "metadata": {
    "id": "imkNzRk-ymDQ"
   },
   "outputs": [],
   "source": [
    "# We wil now store on the python list 'all_evokeds' all the trials for the conditions listed in variable event_id\n",
    "event_id = {'left/auditory': 1, 'right/auditory': 2,\n",
    "            'left/visual': 3, 'right/visual': 4}\n",
    "\n",
    "# If Evokeds objects are stored in a dictionary, they can be retrieved by name.\n",
    "all_evokeds = dict((cond, epochs[cond].average()) for cond in event_id)\n",
    "\n",
    "# Besides for explicit access, this can be used for example to set titles.\n",
    "for cond in all_evokeds:\n",
    "    all_evokeds[cond].plot_joint(title=cond)\n"
   ]
  },
  {
   "cell_type": "markdown",
   "metadata": {
    "id": "FjWszOdFK0pW"
   },
   "source": [
    "# Question 5\n",
    "\n",
    "Describe the differences in the ERPs obtained for each condition in terms of:\n",
    "* Time of the ERP peaks\n",
    "* Scalp location of maximal and minimal activity (brain area, lateralization)\n",
    "* Hypothesize on which brain areas may be involved in each condition. You can find a representation of the different brain lobes [here](https://1.bp.blogspot.com/-ZsryFerSXdQ/X-ZNzFwHytI/AAAAAAAAKWk/nZQbiZZ3aZoe7O5rG1hs8A_68XFNyJnHwCLcBGAsYHQ/s1600/parts%2Bbrain.jpg)\n"
   ]
  }
 ],
 "metadata": {
  "colab": {
   "provenance": []
  },
  "kernelspec": {
   "display_name": "Python 3 (ipykernel)",
   "language": "python",
   "name": "python3"
  },
  "language_info": {
   "codemirror_mode": {
    "name": "ipython",
    "version": 3
   },
   "file_extension": ".py",
   "mimetype": "text/x-python",
   "name": "python",
   "nbconvert_exporter": "python",
   "pygments_lexer": "ipython3",
   "version": "3.12.4"
  }
 },
 "nbformat": 4,
 "nbformat_minor": 4
}
